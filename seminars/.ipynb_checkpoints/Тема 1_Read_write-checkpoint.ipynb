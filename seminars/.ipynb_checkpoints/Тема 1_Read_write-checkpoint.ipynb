{
 "cells": [
  {
   "cell_type": "markdown",
   "metadata": {
    "id": "F45pq5SFsMNZ"
   },
   "source": [
    "# Вебинар 1. Работа с файлами и пакетами"
   ]
  },
  {
   "cell_type": "markdown",
   "metadata": {
    "id": "pbcH57-MksRr",
    "tags": []
   },
   "source": [
    "## Проверка связи"
   ]
  },
  {
   "cell_type": "markdown",
   "metadata": {
    "id": "b7S23zMKsneW"
   },
   "source": [
    "Если у вас нет звука:\n",
    "*   убедитесь, что на вашем устройстве и в колонках включён звук\n",
    "*   обновите страницу вебинара или закройте страницу и заново присоединитесь к вебинару\n",
    "*   откройте вебинар в другом браузере\n",
    "*   перезагрузите ваше устройство и попытайтесь войти снова"
   ]
  },
  {
   "cell_type": "markdown",
   "metadata": {
    "id": "bXA6tiROs7M5"
   },
   "source": [
    "Поставьте в чат:\n",
    "* «+» — если видно и слышно\n",
    "* «–» — если нет"
   ]
  },
  {
   "cell_type": "markdown",
   "metadata": {
    "id": "lGmyF92MksRs"
   },
   "source": [
    "## О спикере"
   ]
  },
  {
   "cell_type": "markdown",
   "metadata": {
    "id": "Ofl6rR2wuA3X"
   },
   "source": [
    "**Погудина Дарья**\n",
    "- эксперт-разработчик на Python в области информационной безопасности и в финтехе\n",
    "- сертифицированный специалист по базам данных\n",
    "- более 8 лет опыта разработки, из них более 4 лет — на Python\n",
    "- 3 года в сфере информационной безопасности с разработкой ПО на Python"
   ]
  },
  {
   "cell_type": "markdown",
   "metadata": {
    "id": "jeTexD3tksRt"
   },
   "source": [
    "## Правила участия"
   ]
  },
  {
   "cell_type": "markdown",
   "metadata": {
    "id": "pxxd0nQSuVwq"
   },
   "source": [
    "*   Приготовьте блокнот и ручку, чтобы записывать важные мысли и идеи\n",
    "*   Продолжительность вебинара — 80 минут\n",
    "*   Вы можете писать свои вопросы в чате или задавать их вслух\n",
    "*   Запись вебинара будет доступна в личном кабинете"
   ]
  },
  {
   "cell_type": "markdown",
   "metadata": {
    "id": "zwWum4yz_t4E"
   },
   "source": [
    "# Цели занятия\n",
    "\n",
    "- Узнать, какие бывают форматы и с какими из них придётся столкнуться\n",
    "- Выяснить, как работать с файлами из Python\n",
    "- Понять, что такое контекстный менеджер\n",
    "- Разобрать основные команды пакетного менеджера pip\n",
    "- Изучить виртуальное окружение virtualenv\n",
    "- Рассмотреть линтеры и форматеры для работы с кодом и импортами"
   ]
  },
  {
   "cell_type": "markdown",
   "metadata": {
    "id": "wNrQJFkxt5XO"
   },
   "source": [
    "## План занятия"
   ]
  },
  {
   "cell_type": "markdown",
   "metadata": {
    "id": "8RGzsWrdyUJ4"
   },
   "source": [
    "1. Форматы обмена данными\n",
    "2. Работа с файлами из Python\n",
    "3. Контекстный менеджер\n",
    "4. Пакетный менеджер pip\n",
    "5. Виртуальное окружение virtualenv\n",
    "6. Линтеры и форматеры для работы с кодом и импортами"
   ]
  },
  {
   "cell_type": "markdown",
   "metadata": {
    "id": "2bL_zpWop7_0"
   },
   "source": [
    "## Форматы обмена данными"
   ]
  },
  {
   "cell_type": "markdown",
   "metadata": {
    "id": "win_ZZ3zp7_0"
   },
   "source": [
    "JSON (JavaScript Object Notation) — текстовый формат обмена данными, основанный на JavaScript."
   ]
  },
  {
   "cell_type": "raw",
   "metadata": {
    "id": "XQaCQrcSp7_0",
    "vscode": {
     "languageId": "raw"
    }
   },
   "source": [
    "Примеры:\n",
    "{\n",
    "  \"first_name\": \"Иван\",\n",
    "  \"second_name\": \"Иванов\"\n",
    "}\n",
    "\n",
    "\n",
    "{\n",
    "    \"first_name\": \"Глеб\",\n",
    "    \"age\": 26\n",
    "}"
   ]
  },
  {
   "cell_type": "raw",
   "metadata": {
    "id": "psn2XV50p7_0",
    "vscode": {
     "languageId": "raw"
    }
   },
   "source": [
    "Это неупорядоченное множество пар «ключ-значение».\n",
    "Плюсы: Легко читается людьми, поддерживается везде\n",
    "Минусы: Занимает больше места, медленнее парсится\n",
    "Где используется: Веб-API, конфигурационные файлы"
   ]
  },
  {
   "cell_type": "code",
   "execution_count": null,
   "metadata": {
    "id": "kHip-Gsap7_0"
   },
   "outputs": [],
   "source": [
    "XML (Extensible Markup Language) — расширяемый язык разметки\n",
    "Плюсы: Очень гибкий, поддерживает схемы\n",
    "Минусы: Много \"воды\" (тегов), сложнее парсить"
   ]
  },
  {
   "cell_type": "code",
   "execution_count": null,
   "metadata": {
    "id": "i57IQZaYp7_1"
   },
   "outputs": [],
   "source": [
    "<?xml version=\"1.0\" encoding=\"UTF-8\"?>\n",
    "<ОбменДанными>\n",
    "    <Справочники>\n",
    "        <Справочник Имя=\"Номенклатура\">\n",
    "            <Элемент>\n",
    "                <Код>000000001</Код>\n",
    "                <Наименование>Товар 1</Наименование>\n",
    "            </Элемент>\n",
    "        </Справочник>\n",
    "    </Справочники>\n",
    "</ОбменДанными>"
   ]
  },
  {
   "cell_type": "code",
   "execution_count": null,
   "metadata": {
    "id": "D7OTNc2Dp7_1"
   },
   "outputs": [],
   "source": [
    "CSV — текстовый формат, предназначенный для представления табличных данных\n",
    "Плюсы: Очень простой, открывается в Excel\n",
    "Минусы: Нет типов данных, проблемы с запятыми в тексте"
   ]
  },
  {
   "cell_type": "code",
   "execution_count": null,
   "metadata": {},
   "outputs": [],
   "source": [
    "id,name,email,age,department\n",
    "1,Анна Петрова,anna@example.com,28,IT\n",
    "2,Иван Сидоров,ivan@example.com,32,Финансы\n",
    "3,Мария Козлова,maria@example.com,25,Маркетинг"
   ]
  },
  {
   "cell_type": "markdown",
   "metadata": {
    "id": "5pkgOZHK-m_x"
   },
   "source": [
    "## Ваши вопросы"
   ]
  },
  {
   "cell_type": "markdown",
   "metadata": {
    "id": "5uqW7WG9p7_2"
   },
   "source": [
    "# Работа с файлами из Python\n",
    "---"
   ]
  },
  {
   "cell_type": "raw",
   "metadata": {
    "id": "IEWLb28rp7_2"
   },
   "source": [
    "'r' — открывает файл для чтения.\n",
    "\n",
    "'w' — открывает файл для записи. Если файла нет, то будет создан новый.\n",
    "    А если файл существует, данные в нём будут перезаписаны.\n",
    "\n",
    "'t' — открывает файл как текстовый.\n",
    "\n",
    "'b' — открывает файл в бинарном режиме.\n",
    "\n",
    "'a' — открывает файл и дозаписывает в него данные, не стирая предыдущие.\n",
    "    Создаёт новый файл, если его не существует."
   ]
  },
  {
   "cell_type": "code",
   "execution_count": null,
   "metadata": {
    "id": "wziPh_74p7_2",
    "outputId": "9bb404d1-2e45-46b3-c2b9-1d60705ab6e3"
   },
   "outputs": [
    {
     "name": "stdout",
     "output_type": "stream",
     "text": [
      "hello_world.txt\n",
      "r\n",
      "Hello\n"
     ]
    }
   ],
   "source": [
    "file = open(file='hello_world.txt', mode='r')\n",
    "print(file.name) # Выведет название файла\n",
    "print(file.mode) # Выведет режим работы с файлом\n",
    "# print(file.read())\n",
    "# print(type(file.read()))\n",
    "# print(file.readline())\n",
    "# print(file.readline())\n",
    "print(file.read(5)) # Принимает int, выведет определённое количество символов. Важно: начиная с 1\n",
    "file.close() \n",
    "# Устаревший вариант"
   ]
  },
  {
   "cell_type": "code",
   "execution_count": 49,
   "metadata": {
    "id": "ttNV7JuMp7_2",
    "outputId": "efe65993-740f-4828-b11e-d3022c775fc0",
    "scrolled": true
   },
   "outputs": [
    {
     "name": "stdout",
     "output_type": "stream",
     "text": [
      "Hello World, Python!\n",
      "\n",
      "This is example file.\n",
      "\n",
      "Just for demonstration.\n"
     ]
    }
   ],
   "source": [
    "big_file = open(file='hello_world_some_times.txt', mode='r')\n",
    "# print(big_file.readlines())\n",
    "# for line in big_file.readlines():\n",
    "#     print(line)\n",
    "\n",
    "# print(type(big_file))\n",
    "# TextIOWrapper и так хранит все строки. Нет необходимости считывать файл целиком. Можно тыкать в генератор (!)\n",
    "\n",
    "for line in big_file:\n",
    "    print(line)\n",
    "big_file.close()"
   ]
  },
  {
   "cell_type": "code",
   "execution_count": 55,
   "metadata": {
    "id": "YViu19Tmp7_3",
    "outputId": "559b0631-35e4-42f5-9e48-8e14fbf8a5ed"
   },
   "outputs": [
    {
     "name": "stdout",
     "output_type": "stream",
     "text": [
      ".venv\n",
      "example.csv\n",
      "hello_world.txt\n",
      ".gitignore\n",
      "hello_world_some_times.txt\n",
      ".git\n",
      "example.json\n",
      "Тема 1_Read_write.ipynb\n",
      ".mypy_cache\n",
      "example.py\n",
      "Тема 2_Python_datetime.ipynb\n",
      ".ruff_cache\n",
      "output.csv\n",
      "something.txt\n"
     ]
    }
   ],
   "source": [
    "import os\n",
    "\n",
    "# Чтение файлов и папок\n",
    "for file in os.listdir('/home/greedy/Documents/ipynb'):\n",
    "    print(file)"
   ]
  },
  {
   "cell_type": "code",
   "execution_count": null,
   "metadata": {},
   "outputs": [],
   "source": [
    "from pathlib import Path\n",
    "\n",
    "for file in Path('/home/greedy/Documents/ipynb').iterdir():\n",
    "    print(file)"
   ]
  },
  {
   "cell_type": "markdown",
   "metadata": {
    "id": "hGKjBOip-sf9"
   },
   "source": [
    "## Ваши вопросы"
   ]
  },
  {
   "cell_type": "markdown",
   "metadata": {
    "id": "r95cukNxp7_3"
   },
   "source": [
    "## Контекстный менеджер"
   ]
  },
  {
   "cell_type": "markdown",
   "metadata": {
    "id": "geA4fedNp7_3"
   },
   "source": [
    "Контекстные менеджеры нужны для выполнения некоторых обязательных действий после того, как мы что-то сделали.\n",
    "\n",
    "Например:\n",
    "\n",
    "- закрывать файл после записи, иначе данные не сохранятся\n",
    "- закрывать соединение, чтобы не потерять данные"
   ]
  },
  {
   "cell_type": "raw",
   "metadata": {
    "id": "xvxHW6bhp7_3",
    "vscode": {
     "languageId": "raw"
    }
   },
   "source": [
    "with statement - это \"Pythonic way\" работы с ресурсами\n",
    "\n",
    "Преимущества контекстных менеджеров:\n",
    "- Автоматическое закрытие файла - даже если произойдет исключение\n",
    "- Более читаемый код - логика открытия/закрытия не смешивается с основной логикой\n",
    "- Безопасность - гарантированное освобождение ресурсов\n",
    "- PEP 343 - это официально рекомендуемый подход"
   ]
  },
  {
   "cell_type": "code",
   "execution_count": null,
   "metadata": {
    "id": "wNiELcnIp7_3",
    "outputId": "3ada0aab-90b7-48a8-fb9c-40185c76acd3"
   },
   "outputs": [
    {
     "name": "stdout",
     "output_type": "stream",
     "text": [
      "Hello World, Python!\n",
      "\n",
      "This is second line\n",
      "информация из файла hello_world.txt\n",
      "\n"
     ]
    },
    {
     "ename": "ValueError",
     "evalue": "I/O operation on closed file.",
     "output_type": "error",
     "traceback": [
      "\u001b[0;31m---------------------------------------------------------------------------\u001b[0m",
      "\u001b[0;31mValueError\u001b[0m                                Traceback (most recent call last)",
      "Cell \u001b[0;32mIn[57], line 6\u001b[0m\n\u001b[1;32m      3\u001b[0m         \u001b[38;5;28mprint\u001b[39m(line)\n\u001b[1;32m      4\u001b[0m     \u001b[38;5;28mprint\u001b[39m(\u001b[38;5;124m'\u001b[39m\u001b[38;5;124mинформация из файла hello_world.txt\u001b[39m\u001b[38;5;130;01m\\n\u001b[39;00m\u001b[38;5;124m'\u001b[39m)\n\u001b[0;32m----> 6\u001b[0m \u001b[38;5;28mprint\u001b[39m(\u001b[38;5;124mf\u001b[39m\u001b[38;5;124m\"\u001b[39m\u001b[38;5;124mfile closed \u001b[39m\u001b[38;5;132;01m{\u001b[39;00m\u001b[43mfile\u001b[49m\u001b[38;5;241;43m.\u001b[39;49m\u001b[43mread\u001b[49m\u001b[43m(\u001b[49m\u001b[43m)\u001b[49m\u001b[38;5;132;01m}\u001b[39;00m\u001b[38;5;124m\"\u001b[39m)\n\u001b[1;32m      8\u001b[0m \u001b[38;5;28;01mwith\u001b[39;00m \u001b[38;5;28mopen\u001b[39m(file\u001b[38;5;241m=\u001b[39m\u001b[38;5;124m'\u001b[39m\u001b[38;5;124mhello_world_some_times.txt\u001b[39m\u001b[38;5;124m'\u001b[39m) \u001b[38;5;28;01mas\u001b[39;00m file:\n\u001b[1;32m      9\u001b[0m     \u001b[38;5;28;01mfor\u001b[39;00m line \u001b[38;5;129;01min\u001b[39;00m file:\n",
      "\u001b[0;31mValueError\u001b[0m: I/O operation on closed file."
     ]
    }
   ],
   "source": [
    "with open(file='hello_world.txt') as file:\n",
    "    for line in file:\n",
    "        print(line)\n",
    "    print('информация из файла hello_world.txt\\n')\n",
    "\n",
    "# print(f\"file closed {file.read()}\")\n",
    "\n",
    "with open(file='hello_world_some_times.txt') as file:\n",
    "    for line in file:\n",
    "        print(line)\n",
    "    print('информация из файла hello_world_some_times.txt\\n')"
   ]
  },
  {
   "cell_type": "raw",
   "metadata": {
    "id": "QdEE2ItAp7_3"
   },
   "source": [
    "Рассмотрим запись в файл."
   ]
  },
  {
   "cell_type": "code",
   "execution_count": 60,
   "metadata": {
    "id": "UruI-q8Pp7_3"
   },
   "outputs": [],
   "source": [
    "some_items = ['Привет', 'Hello World', 'Сегодня пятница']\n",
    "\n",
    "with open(file='something.txt', mode='w', encoding='utf-8') as file: # Использовали mode='w', чтобы сделать запись в файл (и создать его)\n",
    "    # file.write('Hello_world!') # Здесь передаём только строку\n",
    "\n",
    "    # for i in some_items:\n",
    "    #     file.write(f\"{i}\\n\")\n",
    "    file.writelines(some_items)"
   ]
  },
  {
   "cell_type": "code",
   "execution_count": 63,
   "metadata": {
    "id": "K6R9qulSp7_3",
    "outputId": "ac06ea7e-12d7-4668-a58c-67243312d781"
   },
   "outputs": [
    {
     "name": "stdout",
     "output_type": "stream",
     "text": [
      "{'users': [{'id': 1, 'name': 'Анна Петрова', 'email': 'anna@example.com', 'age': 28, 'department': 'IT'}, {'id': 2, 'name': 'Иван Сидоров', 'email': 'ivan@example.com', 'age': 32, 'department': 'Финансы'}, {'id': 3, 'name': 'Мария Козлова', 'email': 'maria@example.com', 'age': 25, 'department': 'Маркетинг'}], 'total_count': 3}\n",
      "<class 'dict'>\n"
     ]
    }
   ],
   "source": [
    "import json\n",
    "\n",
    "with open(file='example.json', encoding='utf-8') as file:\n",
    "    # json_file = json.loads(file.read())\n",
    "    json_file = json.load(file)\n",
    "    print(json_file)\n",
    "    print(type(json_file))"
   ]
  },
  {
   "cell_type": "code",
   "execution_count": 67,
   "metadata": {},
   "outputs": [],
   "source": [
    "import json\n",
    "\n",
    "# print(json.dumps(json_file, indent=4, ensure_ascii=False))\n",
    "\n",
    "with open(file='somewrite.json', encoding='utf-8', mode='w') as file:\n",
    "    json.dump(json_file, file, ensure_ascii=False, indent=4)"
   ]
  },
  {
   "cell_type": "code",
   "execution_count": 68,
   "metadata": {
    "id": "_IR36FNEp7_3",
    "outputId": "3d7694c2-28ca-4cae-cbd9-00e16f0610cc"
   },
   "outputs": [
    {
     "name": "stdout",
     "output_type": "stream",
     "text": [
      "['Полное имя', 'Возраст', 'Город проживания']\n",
      "['Анна Петрова', '25', 'Новосибирск']\n",
      "['Иван Сидоров', '30', 'Санкт-Петербург']\n"
     ]
    }
   ],
   "source": [
    "import csv\n",
    "\n",
    "with open('example.csv', newline='') as csvfile:\n",
    "    csv_file = csv.reader(csvfile, delimiter=' ', quotechar='|')\n",
    "    for row in csv_file:\n",
    "        print(row)\n",
    "        # print(','.join(row))"
   ]
  },
  {
   "cell_type": "code",
   "execution_count": null,
   "metadata": {},
   "outputs": [],
   "source": [
    "data = [\n",
    "    ['Имя', 'Возраст', 'Город'],\n",
    "    ['Анна', '25', 'Москва'],\n",
    "    ['Иван', '30', 'СПб']\n",
    "]\n",
    "\n",
    "with open('output.csv', 'w', newline='', encoding='utf-8') as file:\n",
    "    writer = csv.writer(file)\n",
    "    # writer.writerows(data)\n",
    "\n",
    "    writer.writerow(['Имя', 'Возраст', 'Город'])\n",
    "    writer.writerow(['Анна', '25', 'Москва'])"
   ]
  },
  {
   "cell_type": "markdown",
   "metadata": {
    "id": "q64mZ6sb-rLr"
   },
   "source": [
    "## Ваши вопросы"
   ]
  },
  {
   "cell_type": "markdown",
   "metadata": {
    "id": "eroWHN3Xp7_3"
   },
   "source": [
    "## Пакетный менеджер pip"
   ]
  },
  {
   "cell_type": "markdown",
   "metadata": {
    "id": "91V0yA7Ep7_3"
   },
   "source": [
    "- Пакетный менеджер\n",
    "- Доступен из коробки\n",
    "- Помогает установить любые общедоступные библиотеки"
   ]
  },
  {
   "cell_type": "markdown",
   "metadata": {
    "id": "J6MsY_gcp7_3"
   },
   "source": [
    "Основные команды:\n",
    "- pip help — помощь по доступным командам\n",
    "\n",
    "- pip install package_name — установка пакета(-ов)\n",
    "\n",
    "- pip uninstall package_name — удаление пакета(-ов)\n",
    "\n",
    "- pip list — список установленных пакетов\n",
    "\n",
    "- pip show package_name — показывает информацию об установленном пакете\n",
    "\n",
    "- pip search — поиск пакетов по имени"
   ]
  },
  {
   "cell_type": "markdown",
   "metadata": {
    "id": "3XRvCqdr-p2d"
   },
   "source": [
    "## Ваши вопросы"
   ]
  },
  {
   "cell_type": "markdown",
   "metadata": {
    "id": "0z0CaKyfp7_3"
   },
   "source": [
    "## Виртуальное окружение virtualenv"
   ]
  },
  {
   "cell_type": "raw",
   "metadata": {
    "id": "7cW2kn5Kp7_3"
   },
   "source": [
    "Virtualenv — сторонняя библиотека.\n",
    "\n",
    "Ссылка на документацию: https://virtualenv.pypa.io/en/latest/"
   ]
  },
  {
   "cell_type": "markdown",
   "metadata": {
    "id": "N5niQWUUp7_3"
   },
   "source": [
    "Команды:\n",
    "- virtualenv myenv — создаёт виртуальную среду\n",
    "-  .\\my_env\\Scripts\\activate — активация"
   ]
  },
  {
   "cell_type": "markdown",
   "metadata": {
    "id": "4e6OAqvTp7_4"
   },
   "source": [
    "## Линтеры и форматеры для работы с кодом и импортами"
   ]
  },
  {
   "cell_type": "code",
   "execution_count": null,
   "metadata": {
    "id": "SkRRVNUxp7_4"
   },
   "outputs": [],
   "source": [
    "ruff, flake8, black"
   ]
  },
  {
   "cell_type": "markdown",
   "metadata": {
    "id": "RiNMa1w2UCgR"
   },
   "source": [
    "## Ваши вопросы"
   ]
  },
  {
   "cell_type": "markdown",
   "metadata": {
    "id": "3EooS2zvp7_4"
   },
   "source": [
    "# Итоги"
   ]
  },
  {
   "cell_type": "markdown",
   "metadata": {
    "id": "9uBgmdD10bUI"
   },
   "source": [
    "- Рассмотрели разные форматы файлов и поработали с файлами в Python.\n",
    "- Узнали, как использовать контекстные менеджеры, освоили основные команды пакетного менеджера pip и рассмотрели виртуальное окружение virtualenv.\n",
    "- Познакомились с линтерами и форматерами для улучшения кода"
   ]
  }
 ],
 "metadata": {
  "colab": {
   "provenance": []
  },
  "kernelspec": {
   "display_name": "Python 3",
   "language": "python",
   "name": "python3"
  },
  "language_info": {
   "codemirror_mode": {
    "name": "ipython",
    "version": 3
   },
   "file_extension": ".py",
   "mimetype": "text/x-python",
   "name": "python",
   "nbconvert_exporter": "python",
   "pygments_lexer": "ipython3",
   "version": "3.10.18"
  }
 },
 "nbformat": 4,
 "nbformat_minor": 0
}
