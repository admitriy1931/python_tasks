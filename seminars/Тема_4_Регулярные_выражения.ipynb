{
  "cells": [
    {
      "cell_type": "markdown",
      "metadata": {
        "id": "T14fj_LH_mVr"
      },
      "source": [
        "# Тема 4. Регулярные выражения\n",
        "\n"
      ]
    },
    {
      "cell_type": "markdown",
      "metadata": {
        "id": "pbcH57-MksRr",
        "tags": []
      },
      "source": [
        "## Проверка связи"
      ]
    },
    {
      "cell_type": "markdown",
      "source": [
        "Если у вас нет звука:\n",
        "*   убедитесь, что на вашем устройстве и в колонках включён звук\n",
        "*   обновите страницу вебинара или закройте страницу и заново присоединитесь к вебинару\n",
        "*   откройте вебинар в другом браузере\n",
        "*   перезагрузите ваше устройство и попытайтесь войти снова"
      ],
      "metadata": {
        "id": "b7S23zMKsneW"
      }
    },
    {
      "cell_type": "markdown",
      "metadata": {
        "id": "aq_cAJwVksRs"
      },
      "source": [
        "Поставьте в чат:<br>\n",
        "\\+ если меня видно и слышно<br>\n",
        "\\- если нет"
      ]
    },
    {
      "cell_type": "markdown",
      "metadata": {
        "id": "lGmyF92MksRs"
      },
      "source": [
        "## О спикере"
      ]
    },
    {
      "cell_type": "markdown",
      "source": [
        "**Погудина Дарья**\n",
        "- эксперт-разработчик на Python в области информационной безопасности и в финтехе\n",
        "- сертифицированный специалист по базам данных\n",
        "- более 8 лет опыта разработки, из них более 4 лет — на Python\n",
        "- 3 года в сфере информационной безопасности с разработкой ПО на Python"
      ],
      "metadata": {
        "id": "Ofl6rR2wuA3X"
      }
    },
    {
      "cell_type": "markdown",
      "metadata": {
        "id": "jeTexD3tksRt"
      },
      "source": [
        "## Правила участия"
      ]
    },
    {
      "cell_type": "markdown",
      "metadata": {
        "id": "2kvQyqS9ksRt",
        "tags": []
      },
      "source": [
        "- Приготовьте блокнот и ручку, чтобы записывать важные мысли и идеи\n",
        "- Продолжительность вебинара — 80 минут\n",
        "- Вы можете писать свои вопросы в чате\n",
        "- Запись вебинара будет доступна в личном кабинете"
      ]
    },
    {
      "cell_type": "markdown",
      "metadata": {
        "id": "JFQrFju9ksRu"
      },
      "source": [
        "## Цель занятия"
      ]
    },
    {
      "cell_type": "markdown",
      "source": [
        "* Изучить основы регулярных выражений\n",
        "* Рассмотреть решение практических задач с помощью регулярных выражений"
      ],
      "metadata": {
        "id": "Ke-A8EiB5dIt"
      }
    },
    {
      "cell_type": "markdown",
      "metadata": {
        "id": "y0L-W3AYksRv"
      },
      "source": [
        "## План занятия"
      ]
    },
    {
      "cell_type": "markdown",
      "source": [
        "1.   Основы использования регулярных выражений\n",
        "2.   Пример работы с регулярными выражениями"
      ],
      "metadata": {
        "id": "mW8mJTGcDErR"
      }
    },
    {
      "cell_type": "markdown",
      "metadata": {
        "id": "UUPxdI3FJPNN"
      },
      "source": [
        "## Основы использования регулярных выражений"
      ]
    },
    {
      "cell_type": "code",
      "execution_count": null,
      "metadata": {
        "id": "mROfUcMn4NvQ"
      },
      "outputs": [],
      "source": [
        "# для определения нужного формата, например телефонного номера или email-адреса;\n",
        "# для разбивки строк на подстроки;\n",
        "# для поиска, замены и извлечения символов;\n",
        "# для быстрого выполнения нетривиальных операций.\n",
        "\n",
        "import re\n",
        "# Список популярных методов\n",
        "re.match()\n",
        "re.search()\n",
        "re.findall()\n",
        "re.split()\n",
        "re.sub()\n",
        "re.compile()\n"
      ]
    },
    {
      "cell_type": "code",
      "execution_count": null,
      "metadata": {
        "id": "7X_okyc04NvR",
        "outputId": "036e9eb2-4271-4c87-a044-2c6d6969d2bc"
      },
      "outputs": [
        {
          "name": "stdout",
          "output_type": "stream",
          "text": [
            "None\n",
            "<re.Match object; span=(0, 6), match='привет'>\n",
            "привет\n"
          ]
        }
      ],
      "source": [
        "import re\n",
        "# re.match(pattern, string) # Принимает на вход паттерн и исходную строку. Находит вхождение фрагмента в начале строки.\n",
        "# Пример использования\n",
        "\n",
        "first_example = \"Всем привет! Сегодня пытаемся понять регулярки\"\n",
        "match = re.match(r'привет', first_example)\n",
        "print(match) # Этот код вернет None, несмотря на то, что в строке есть подстрока \"привет\". Это происходит потому, что фрагмент расположен не в начале строки.\n",
        "# А вот такой пример сработает.\n",
        "\n",
        "second_example = \"привет всем! Сегодня пытаемся понять регулярки\"\n",
        "match_two = re.match(r'привет', second_example)\n",
        "print(match_two) # Получим match объект. Чтобы распечатать слово, необходимо вызвать метод group\n",
        "print(match_two.group()) # Выведем нашу группу"
      ]
    },
    {
      "cell_type": "code",
      "execution_count": null,
      "metadata": {
        "id": "Pw-d02ku4NvS",
        "outputId": "4e4007eb-9646-46cb-a2c6-5c32eb0af087"
      },
      "outputs": [
        {
          "name": "stdout",
          "output_type": "stream",
          "text": [
            "<re.Match object; span=(1, 3), match='не'>\n",
            "(1, 3)\n",
            "Мне не нравятся регулярки\n",
            "не\n"
          ]
        }
      ],
      "source": [
        "import re\n",
        "# re.search() # находит первое вхождение фрагмента в любом месте и возвращает объект match. Если в строке есть другие фрагменты, соответствующие запросу, re.search их проигнорирует.\n",
        "\n",
        "first_example = \"Мне не нравятся регулярки\"\n",
        "match = re.search(r'не', s)\n",
        "print(match, match.span(), match.string, match.group(), sep='\\n')"
      ]
    },
    {
      "cell_type": "code",
      "execution_count": null,
      "metadata": {
        "id": "KZmMIfYT4NvS",
        "outputId": "e819f2f2-d2c9-4dc6-ca2d-612dd45ff76e"
      },
      "outputs": [
        {
          "name": "stdout",
          "output_type": "stream",
          "text": [
            "['Вы', 'просто', 'еще', 'шаблоны', 'не', 'видели']\n"
          ]
        }
      ],
      "source": [
        "import re\n",
        "example = \"Вы просто еще шаблоны не видели\"\n",
        "res = re.split(r' ', example)\n",
        "print(res)"
      ]
    },
    {
      "cell_type": "code",
      "execution_count": null,
      "metadata": {
        "id": "HeeTrHMI4NvS",
        "outputId": "61ae5f8f-8f41-4ef2-c144-1b1d65594c5b"
      },
      "outputs": [
        {
          "name": "stdout",
          "output_type": "stream",
          "text": [
            "Но codeium неплохо умеет их генерировать\n"
          ]
        }
      ],
      "source": [
        "import re\n",
        "example = \"Но copilot неплохо умеет их генерировать\"\n",
        "res = re.sub(r'copilot', 'codeium', example)\n",
        "print(res)"
      ]
    },
    {
      "cell_type": "code",
      "execution_count": null,
      "metadata": {
        "id": "RlC7Lv1W4NvS",
        "outputId": "285ca22f-05d9-44ad-e82c-1cc83f6e2311"
      },
      "outputs": [
        {
          "name": "stdout",
          "output_type": "stream",
          "text": [
            "['угнал', 'угнал']\n",
            "['угнал', 'угнал']\n"
          ]
        }
      ],
      "source": [
        "import re\n",
        "st = re.compile('кажется')\n",
        "res1 = st.findall(\"Мне кажется, что тема до этого момента даже очень простая\")\n",
        "res2 = st.findall(\"Но поверьте, мне просто кажется\")\n",
        "print(res1, res2, sep='\\n')"
      ]
    },
    {
      "cell_type": "markdown",
      "metadata": {
        "id": "TwtEnL6A4NvT"
      },
      "source": [
        "Основные метасимволы в Regex\n",
        "[]– используется для указания набора или диапазона символов – re.findall(r'[с-я]',\n",
        "\"Камер-юнкер юркнул в бункер\", re.I),re.findall(r'[аж]', \"ажиотаж, мандраж, багаж\").\n",
        "\n",
        "\\ – указывает на начало последовательности (мы рассмотрим их ниже) или экранирует служебные символы.\n",
        "\n",
        ".– выбирает любой символ, кроме новой строки \\n.\n",
        "\n",
        "^– проверяет, начинается ли строка с определенного символа / слова / набора символов.\n",
        "Например,r'^Привет' проверит, начинается ли строка с «Привет». Метасимвол ^ в наборе []имеет другое значение – проверяет, отсутствуют ли в строке определенные символы (подробнее об этом ниже).\n",
        "\n",
        " $– проверяет, заканчивается ли строка в соответствии с шаблоном r'До\n",
        "  \n",
        "свиданья.$'.\n",
        "\n",
        "* – ноль или больше совпадений с шаблономr'ко.*аборация'.\n",
        "\n",
        "+ – одно и более совпадений r'к.+ператив'.\n",
        "\n",
        "? – ноль или одно совпадениеr'ф.?нтастика'.\n",
        "Кроме того, нейтрализует «жадность» выражений, которые используют ., *, + для выбора любых символов.\n",
        "\n",
        "{} – точное число совпадений r'Интерсте.{2}ар'.\n",
        "\n",
        "|– любой из двух вариантов r'уйду|останусь'.\n",
        "\n",
        "()– захватывает группу для дальнейших манипуляций – re.sub(r'(www)', r'\\1.', \"wwwwear-gear.com\").\n",
        "\n",
        "<> – создает именованную группу – re.search('(?P<группа1>\\w+),(?P<группа2>\\w+),(?P<группа3>\\w+)', 'дом,улица,фонарь')\n",
        "\n",
        "Последовательности\n",
        "Знаком слэша \\ обозначается специфическая последовательность символов.\n",
        "\n",
        "\\A– проверяет, начинается ли строка с определенной последовательности символов. Например, re.findall(r\"\\AДом\", txt), проверит, начинается ли предложение со слова «Дом».\n",
        "\n",
        "\\b– возвращает совпадение, если слово начинается или заканчивается нужной последовательностью символов. Выражение re.findall(r\".com\\b\", s) проверит, есть ли в строке хотя бы одно доменное имя зоны .com.\n",
        "\n",
        "\\B – возвращает совпадение, если определенные символы есть в строке, но не в начале или не в конце слова – re.findall(r\"\\Bро\", 'розовая от мороза'), re.findall(r'ин\\B', 'синий апельсин').\n",
        "\n",
        "\\d – проверяет, что в строке есть цифры от 0 до 9 – re.findall(\"\\d\", 'при пожаре звоните 112').\n",
        "\n",
        "\\D – удостоверяет, что цифр в строке нет – re.findall(\"\\D\", 'цифр нет').\n",
        "\n",
        "\\s – проверяет наличие пробелов в строке – re.findall(\"\\s\", \"один пробел\").\n",
        "\n",
        "\\S – возвращает совпадение, если в строке есть любые символы, кроме пробелов – re.findall(\"\\S\", \"непустая строка\").\n",
        "\n",
        "\\w – проверяет, есть ли в строке «словесные» символы – знак нижнего подчеркивания, цифры и буквы – re.findall(r\"\\w\", \"_\\\\\\\\\").\n",
        "\n",
        "\\W – возвращает совпадение по каждому «несловесному» символу – re.findall(\"\\W\", \"здесь есть такие символы!\").\n",
        "\n",
        "\\Z – проверит, заканчивается ли строка нужной последовательностью символов – re.findall(\"конец\\Z\", \"это конец\").\n",
        "\n",
        "Наборы и диапазоны символов\n",
        "Наборы и диапазоны в регулярных выражениях заключены в квадратные скобки:\n",
        "\n",
        "[есн]– проверит, есть ли в строке любой из указанных символов е, с или н – re.findall(\"[есн]\", \"здесь есть несколько символов из набора\"). Наличие любой цифры из набора проверяется так же –[0169].\n",
        "\n",
        "[а-е] – вернет совпадения по каждому символу из алфавитного диапазона – re.findall(\"[а-е]\",\n",
        "\"здесь есть символы из диапазона\"). Таким же образом возвращает совпадения по диапазону цифр – [5-9]. Чтобы не использовать флаг re.IGNORECASE, диапазон можно указывать так – [а-еА-Е].\n",
        "\n",
        "[^абвгд]– проверит наличие в строке символов, кроме указанных в наборе – re.findall(\"[^абвгд]\", \"АБВГДейка – детская передача\", re.I).\n",
        "\n",
        "[0-5][0-9] – возвращает совпадения по двузначным цифрам от 00 до 59 – re.findall(\"[0-5][0-9]\", \"будильник сработает в 07:45\")"
      ]
    },
    {
      "cell_type": "code",
      "execution_count": null,
      "metadata": {
        "id": "mvfyZlvS_hy-",
        "outputId": "ec6f2711-6d11-43fa-ba72-043f4c3e85cd"
      },
      "outputs": [
        {
          "name": "stdout",
          "output_type": "stream",
          "text": [
            "['id1', 'id4', 'id4']\n"
          ]
        },
        {
          "data": {
            "text/plain": [
              "['id1234563', 'id4653', 'id461']"
            ]
          },
          "execution_count": 7,
          "metadata": {},
          "output_type": "execute_result"
        }
      ],
      "source": [
        "import re\n",
        "# найдем идентификаторы пользователей в тексте\n",
        "msg = 'В розыгрыше победили: id1234563, id4653, id461'\n",
        "print(re.findall(r'id\\d', msg))\n",
        "re.findall(r'id\\d+', msg) # Если добавить +"
      ]
    },
    {
      "cell_type": "code",
      "execution_count": null,
      "metadata": {
        "id": "l8ZRI9ojfPUM",
        "outputId": "bcc9553d-7244-4086-cd1a-53b8d4970e48"
      },
      "outputs": [
        {
          "name": "stdout",
          "output_type": "stream",
          "text": [
            "['#эпидемия', '#оставайсядома']\n"
          ]
        }
      ],
      "source": [
        "import re\n",
        "tweet = 'когда #эпидемия, то обязательно #оставайсядома'\n",
        "\n",
        "print(re.findall(r'#\\w+', tweet))"
      ]
    },
    {
      "cell_type": "code",
      "execution_count": null,
      "metadata": {
        "id": "QdLpzlNB_hzB"
      },
      "outputs": [],
      "source": [
        "text = \"\"\"Что такое регулярные выражения и как их использовать?\n",
        "Говоря простым языком, регулярное выражение — это последовательность символов, используемая для поиска и замены текста в строке или файле. Как уже было упомянуто,\\\n",
        "их поддерживает множество языков общего назначения: Python, Perl, R.\n",
        "Так что изучение регулярных выражений рано или поздно пригодится.\"\"\""
      ]
    },
    {
      "cell_type": "code",
      "execution_count": null,
      "metadata": {
        "id": "R9VklNwz_hzC",
        "scrolled": true,
        "outputId": "51e7cbf5-ae59-4fd5-c327-84e890558c40"
      },
      "outputs": [
        {
          "data": {
            "text/plain": [
              "['Что',\n",
              " 'такое',\n",
              " 'регулярные',\n",
              " 'выражения',\n",
              " 'и',\n",
              " 'как',\n",
              " 'их',\n",
              " 'использовать',\n",
              " 'Говоря',\n",
              " 'простым',\n",
              " 'языком',\n",
              " 'регулярное',\n",
              " 'выражение',\n",
              " 'это',\n",
              " 'последовательность',\n",
              " 'символов',\n",
              " 'используемая',\n",
              " 'для',\n",
              " 'поиска',\n",
              " 'и',\n",
              " 'замены',\n",
              " 'текста',\n",
              " 'в',\n",
              " 'строке',\n",
              " 'или',\n",
              " 'файле',\n",
              " 'Как',\n",
              " 'уже',\n",
              " 'было',\n",
              " 'упомянуто',\n",
              " 'их',\n",
              " 'поддерживает',\n",
              " 'множество',\n",
              " 'языков',\n",
              " 'общего',\n",
              " 'назначения',\n",
              " 'Python',\n",
              " 'Perl',\n",
              " 'R',\n",
              " 'Так',\n",
              " 'что',\n",
              " 'изучение',\n",
              " 'регулярных',\n",
              " 'выражений',\n",
              " 'рано',\n",
              " 'или',\n",
              " 'поздно',\n",
              " 'пригодится']"
            ]
          },
          "execution_count": 16,
          "metadata": {},
          "output_type": "execute_result"
        }
      ],
      "source": [
        "re.findall(r'\\w+', text)"
      ]
    },
    {
      "cell_type": "code",
      "execution_count": null,
      "metadata": {
        "id": "C9ofKbAc_hzC",
        "outputId": "4de3dde8-a8c8-4f04-e915-6ce3f729707b"
      },
      "outputs": [
        {
          "data": {
            "text/plain": [
              "['Что',\n",
              " '',\n",
              " 'такое',\n",
              " '',\n",
              " 'регулярные',\n",
              " '',\n",
              " 'выражения',\n",
              " '',\n",
              " 'и',\n",
              " '',\n",
              " 'как',\n",
              " '',\n",
              " 'их',\n",
              " '',\n",
              " 'использовать',\n",
              " '',\n",
              " '',\n",
              " '',\n",
              " 'Говоря',\n",
              " '',\n",
              " 'простым',\n",
              " '',\n",
              " 'языком',\n",
              " '',\n",
              " '',\n",
              " 'регулярное',\n",
              " '',\n",
              " 'выражение',\n",
              " '',\n",
              " '',\n",
              " '',\n",
              " 'это',\n",
              " '',\n",
              " 'последовательность',\n",
              " '',\n",
              " 'символов',\n",
              " '',\n",
              " '',\n",
              " 'используемая',\n",
              " '',\n",
              " 'для',\n",
              " '',\n",
              " 'поиска',\n",
              " '',\n",
              " 'и',\n",
              " '',\n",
              " 'замены',\n",
              " '',\n",
              " 'текста',\n",
              " '',\n",
              " 'в',\n",
              " '',\n",
              " 'строке',\n",
              " '',\n",
              " 'или',\n",
              " '',\n",
              " 'файле',\n",
              " '',\n",
              " '',\n",
              " 'Как',\n",
              " '',\n",
              " 'уже',\n",
              " '',\n",
              " 'было',\n",
              " '',\n",
              " 'упомянуто',\n",
              " '',\n",
              " 'их',\n",
              " '',\n",
              " 'поддерживает',\n",
              " '',\n",
              " 'множество',\n",
              " '',\n",
              " 'языков',\n",
              " '',\n",
              " 'общего',\n",
              " '',\n",
              " 'назначения',\n",
              " '',\n",
              " '',\n",
              " 'Python',\n",
              " '',\n",
              " '',\n",
              " 'Perl',\n",
              " '',\n",
              " '',\n",
              " 'R',\n",
              " '',\n",
              " '',\n",
              " 'Так',\n",
              " '',\n",
              " 'что',\n",
              " '',\n",
              " 'изучение',\n",
              " '',\n",
              " 'регулярных',\n",
              " '',\n",
              " 'выражений',\n",
              " '',\n",
              " 'рано',\n",
              " '',\n",
              " 'или',\n",
              " '',\n",
              " 'поздно',\n",
              " '',\n",
              " 'пригодится',\n",
              " '',\n",
              " '']"
            ]
          },
          "execution_count": 17,
          "metadata": {},
          "output_type": "execute_result"
        }
      ],
      "source": [
        "re.findall(r'\\w*', text)"
      ]
    },
    {
      "cell_type": "code",
      "execution_count": null,
      "metadata": {
        "id": "WRBcmiin_hzD",
        "outputId": "d664f9d3-9936-4f40-d252-58dd6b42c4c4"
      },
      "outputs": [
        {
          "name": "stdout",
          "output_type": "stream",
          "text": [
            "['Ч', 'т', 'о', '', 'т', 'а', 'к', 'о', 'е', '', 'р', 'е', 'г', 'у', 'л', 'я', 'р', 'н', 'ы', 'е', '', 'в', 'ы', 'р', 'а', 'ж', 'е', 'н', 'и', 'я', '', 'и', '', 'к', 'а', 'к', '', 'и', 'х', '', 'и', 'с', 'п', 'о', 'л', 'ь', 'з', 'о', 'в', 'а', 'т', 'ь', '', '', '', 'Г', 'о', 'в', 'о', 'р', 'я', '', 'п', 'р', 'о', 'с', 'т', 'ы', 'м', '', 'я', 'з', 'ы', 'к', 'о', 'м', '', '', 'р', 'е', 'г', 'у', 'л', 'я', 'р', 'н', 'о', 'е', '', 'в', 'ы', 'р', 'а', 'ж', 'е', 'н', 'и', 'е', '', '', '', 'э', 'т', 'о', '', 'п', 'о', 'с', 'л', 'е', 'д', 'о', 'в', 'а', 'т', 'е', 'л', 'ь', 'н', 'о', 'с', 'т', 'ь', '', 'с', 'и', 'м', 'в', 'о', 'л', 'о', 'в', '', '', 'и', 'с', 'п', 'о', 'л', 'ь', 'з', 'у', 'е', 'м', 'а', 'я', '', 'д', 'л', 'я', '', 'п', 'о', 'и', 'с', 'к', 'а', '', 'и', '', 'з', 'а', 'м', 'е', 'н', 'ы', '', 'т', 'е', 'к', 'с', 'т', 'а', '', 'в', '', 'с', 'т', 'р', 'о', 'к', 'е', '', 'и', 'л', 'и', '', 'ф', 'а', 'й', 'л', 'е', '', '', 'К', 'а', 'к', '', 'у', 'ж', 'е', '', 'б', 'ы', 'л', 'о', '', 'у', 'п', 'о', 'м', 'я', 'н', 'у', 'т', 'о', '', 'и', 'х', '', 'п', 'о', 'д', 'д', 'е', 'р', 'ж', 'и', 'в', 'а', 'е', 'т', '', 'м', 'н', 'о', 'ж', 'е', 'с', 'т', 'в', 'о', '', 'я', 'з', 'ы', 'к', 'о', 'в', '', 'о', 'б', 'щ', 'е', 'г', 'о', '', 'н', 'а', 'з', 'н', 'а', 'ч', 'е', 'н', 'и', 'я', '', '', 'P', 'y', 't', 'h', 'o', 'n', '', '', 'P', 'e', 'r', 'l', '', '', 'R', '', '', 'Т', 'а', 'к', '', 'ч', 'т', 'о', '', 'и', 'з', 'у', 'ч', 'е', 'н', 'и', 'е', '', 'р', 'е', 'г', 'у', 'л', 'я', 'р', 'н', 'ы', 'х', '', 'в', 'ы', 'р', 'а', 'ж', 'е', 'н', 'и', 'й', '', 'р', 'а', 'н', 'о', '', 'и', 'л', 'и', '', 'п', 'о', 'з', 'д', 'н', 'о', '', 'п', 'р', 'и', 'г', 'о', 'д', 'и', 'т', 'с', 'я', '', '']\n"
          ]
        }
      ],
      "source": [
        "print(re.findall(r'\\w?', text))"
      ]
    },
    {
      "cell_type": "code",
      "execution_count": null,
      "metadata": {
        "id": "qGntw1Qd_hzE"
      },
      "outputs": [],
      "source": [
        "# необходимо из строки с условными датами вытащить их\n",
        "registration = 'Date of start: 4-12. Date of registration: 20-11'"
      ]
    },
    {
      "cell_type": "code",
      "execution_count": null,
      "metadata": {
        "id": "cASR3icl_hzF",
        "outputId": "caea01b1-d163-4ecc-ab1a-e7b96771a73c"
      },
      "outputs": [
        {
          "data": {
            "text/plain": [
              "['4-12', '20-11']"
            ]
          },
          "execution_count": 20,
          "metadata": {},
          "output_type": "execute_result"
        }
      ],
      "source": [
        "re.findall(r'\\d{1,2}-\\d{1,2}', registration)"
      ]
    },
    {
      "cell_type": "code",
      "execution_count": null,
      "metadata": {
        "id": "ln3Z3Q3O_hzG"
      },
      "outputs": [],
      "source": [
        "# вытащим номера телефонов и текста\n",
        "phone_numbers = 'Мария: 8-943-342-23-32 Александр: 8-323-432-23-67'"
      ]
    },
    {
      "cell_type": "code",
      "execution_count": null,
      "metadata": {
        "id": "tbUFSSXU_hzG",
        "outputId": "70d12b16-295f-4df9-d52b-bccb15fbe0c0"
      },
      "outputs": [
        {
          "data": {
            "text/plain": [
              "['8-943-342-23-32', '8-323-432-23-67']"
            ]
          },
          "execution_count": 22,
          "metadata": {},
          "output_type": "execute_result"
        }
      ],
      "source": [
        "phone_pattern = r'\\d-\\d{3}-\\d{3}-\\d{2}-\\d{2}'\n",
        "re.findall(phone_pattern, phone_numbers)"
      ]
    },
    {
      "cell_type": "code",
      "execution_count": null,
      "metadata": {
        "id": "zqii2BFP_hzH",
        "scrolled": true
      },
      "outputs": [],
      "source": [
        "# ПРАКТИКА. Свалидируем дату\n",
        "date = 'some text 1st september 2019 07:25 some text'"
      ]
    },
    {
      "cell_type": "code",
      "execution_count": null,
      "metadata": {
        "id": "DHp1uMnM_hzI",
        "outputId": "d0398c68-d021-404d-80d6-55750bfdd406"
      },
      "outputs": [
        {
          "name": "stdout",
          "output_type": "stream",
          "text": [
            "Не нашел\n"
          ]
        }
      ],
      "source": [
        "# search ищет по всей строке, а match только в начале\n",
        "text = \"\"\"Что такое регулярные выражения и как их использовать?\n",
        "Говоря простым языком, регулярное выражение — это последовательность символов, используемая для поиска и замены текста в строке или файле. Как уже было упомянуто,\\\n",
        "их поддерживает множество языков общего назначения: Python, Perl, R.\n",
        "Так что изучение регулярных выражений рано или поздно пригодится.\"\"\"\n",
        "\n",
        "result = re.match(r'P\\w+', text)\n",
        "# result\n",
        "print('Нашел' if result else 'Не нашел')"
      ]
    },
    {
      "cell_type": "code",
      "execution_count": null,
      "metadata": {
        "id": "uM3JJ1eR_hzI"
      },
      "outputs": [],
      "source": [
        "re.match(r'\\w+', text)"
      ]
    },
    {
      "cell_type": "code",
      "execution_count": null,
      "metadata": {
        "id": "Js-pRNcy_hzJ",
        "outputId": "b1199cc9-c0b2-49d5-a6cc-4b3827308e73"
      },
      "outputs": [
        {
          "name": "stdout",
          "output_type": "stream",
          "text": [
            "Нашел\n",
            "Python\n"
          ]
        }
      ],
      "source": [
        "res = re.search(r'P\\w+', text)\n",
        "res.start()\n",
        "res.group()\n",
        "print('Нашел' if res else 'Не нашел')\n",
        "print(res.group())\n",
        "# res"
      ]
    },
    {
      "cell_type": "code",
      "execution_count": null,
      "metadata": {
        "id": "sWzhv7xE_hzJ"
      },
      "outputs": [],
      "source": [
        "# экранирование\n",
        "text = \"Эта строка написана 08.06.2021, а могла бы и 01/01/2999\""
      ]
    },
    {
      "cell_type": "code",
      "execution_count": null,
      "metadata": {
        "id": "MJGyV901_hzK",
        "outputId": "f781a931-941d-4b03-fb8d-cc43d7b8fca9"
      },
      "outputs": [
        {
          "data": {
            "text/plain": [
              "['08.06.2021', '01/01/2999']"
            ]
          },
          "execution_count": 32,
          "metadata": {},
          "output_type": "execute_result"
        }
      ],
      "source": [
        "re.findall(r'\\d\\d.\\d\\d.\\d{4}', text)"
      ]
    },
    {
      "cell_type": "code",
      "execution_count": null,
      "metadata": {
        "id": "iSKV6Rqc_hzK"
      },
      "outputs": [],
      "source": [
        "# определим находится ли домен в зоне com\n",
        "domain = 'www.site.com'"
      ]
    },
    {
      "cell_type": "code",
      "execution_count": null,
      "metadata": {
        "id": "m3h4l64J_hzK",
        "outputId": "f70726fe-6e46-4643-fc98-7202f65adb79"
      },
      "outputs": [
        {
          "data": {
            "text/plain": [
              "['www.site.com']"
            ]
          },
          "execution_count": 34,
          "metadata": {},
          "output_type": "execute_result"
        }
      ],
      "source": [
        "re.findall(r'www\\..+\\.com', domain)"
      ]
    },
    {
      "cell_type": "code",
      "execution_count": null,
      "metadata": {
        "id": "3Fgjt-hA_hzL"
      },
      "outputs": [],
      "source": [
        "# поищем только в начале и конце строки\n",
        "history_comment = '20 век был более опасным, чем 19 век'"
      ]
    },
    {
      "cell_type": "code",
      "execution_count": null,
      "metadata": {
        "id": "mBANMW7F_hzL",
        "outputId": "2ec89437-f084-4521-cb08-3b6d4de5c6cf"
      },
      "outputs": [
        {
          "data": {
            "text/plain": [
              "['20 век', '19 век']"
            ]
          },
          "execution_count": 37,
          "metadata": {},
          "output_type": "execute_result"
        }
      ],
      "source": [
        "re.findall(r'\\d{1,2}\\sвек', history_comment)"
      ]
    },
    {
      "cell_type": "code",
      "execution_count": null,
      "metadata": {
        "id": "cxBFLGqF_hzM",
        "outputId": "bf50be41-0f85-45ca-c050-dc7ec4e87f02"
      },
      "outputs": [
        {
          "data": {
            "text/plain": [
              "['20 век']"
            ]
          },
          "execution_count": 38,
          "metadata": {},
          "output_type": "execute_result"
        }
      ],
      "source": [
        "re.findall(r'^\\d{1,2}\\sвек', history_comment)"
      ]
    },
    {
      "cell_type": "code",
      "execution_count": null,
      "metadata": {
        "id": "RHLmO7nh_hzN",
        "outputId": "1339e50a-727a-483a-e273-0422e3c48608"
      },
      "outputs": [
        {
          "data": {
            "text/plain": [
              "['19 век']"
            ]
          },
          "execution_count": 39,
          "metadata": {},
          "output_type": "execute_result"
        }
      ],
      "source": [
        "re.findall(r'\\d{1,2}\\sвек$', history_comment)"
      ]
    },
    {
      "cell_type": "code",
      "execution_count": null,
      "metadata": {
        "id": "UYt4Ie2p_hzN",
        "outputId": "1b343f60-0101-4241-f557-408a85a6ef33"
      },
      "outputs": [
        {
          "data": {
            "text/plain": [
              "['ноутбук', 'компьютер']"
            ]
          },
          "execution_count": 40,
          "metadata": {},
          "output_type": "execute_result"
        }
      ],
      "source": [
        "# ИЛИ\n",
        "market_search = 'Что лучше: ноутбук или компьютер?'\n",
        "re.findall('ноутбук|компьютер', market_search)"
      ]
    },
    {
      "cell_type": "code",
      "execution_count": null,
      "metadata": {
        "id": "QA_LkF74_hzO",
        "outputId": "5d41a41c-94d8-4c8e-8e45-07ce52ccc8ca"
      },
      "outputs": [
        {
          "data": {
            "text/plain": [
              "'Тут текст в который попали пробельные символы в начале и в конце, от которых нужно избавиться'"
            ]
          },
          "execution_count": 42,
          "metadata": {},
          "output_type": "execute_result"
        }
      ],
      "source": [
        "text = '    Тут текст в который попали пробельные символы в начале и в конце, от которых нужно избавиться   '\n",
        "\n",
        "re.sub(r'^\\s+|\\s+$', '', text)"
      ]
    },
    {
      "cell_type": "code",
      "execution_count": null,
      "metadata": {
        "id": "rfzOaAqP_hzP",
        "outputId": "4eb444f0-ac38-44a5-ffb3-415532ec7278"
      },
      "outputs": [
        {
          "data": {
            "text/plain": [
              "['регулярные выражения', 'регулярное выражение', 'регулярных выражений']"
            ]
          },
          "execution_count": 43,
          "metadata": {},
          "output_type": "execute_result"
        }
      ],
      "source": [
        "# [] - найдем слово во всем склонениях\n",
        "text = \"\"\"Что такое регулярные выражения и как их использовать?\n",
        "Говоря простым языком, регулярное выражение — это последовательность символов, используемая для поиска и замены текста в строке или файле. Как уже было упомянуто,\n",
        "их поддерживает множество языков общего назначения: Python, Perl, R.\n",
        "Так что изучение регулярных выражений рано или поздно пригодится.\"\"\"\n",
        "pattern = r'[Рр]егулярн[а-я]{2,3}\\sвыражен[а-я]{2,3}'\n",
        "re.findall(pattern, text)"
      ]
    },
    {
      "cell_type": "code",
      "execution_count": null,
      "metadata": {
        "id": "M8NQrHsJ_hzR"
      },
      "outputs": [],
      "source": [
        "# найдем все домены, которые состоят из цифр\n",
        "websites = 'www.101.com  www.google.com'"
      ]
    },
    {
      "cell_type": "code",
      "execution_count": null,
      "metadata": {
        "id": "Q-e3ERl2_hzR",
        "outputId": "9b434b19-ff39-4837-b839-7e52bfba5192"
      },
      "outputs": [
        {
          "data": {
            "text/plain": [
              "['www.101.com']"
            ]
          },
          "execution_count": 45,
          "metadata": {},
          "output_type": "execute_result"
        }
      ],
      "source": [
        "re.findall(r'www\\.[0-9]+\\.com', websites)"
      ]
    },
    {
      "cell_type": "code",
      "execution_count": null,
      "metadata": {
        "id": "edYU_HDW_hzR"
      },
      "outputs": [],
      "source": [
        "websites = 'www.101.com  www.google.com'"
      ]
    },
    {
      "cell_type": "code",
      "execution_count": null,
      "metadata": {
        "id": "plq39Hbe_hzR",
        "outputId": "3320db03-25aa-43ae-c9cc-1c912acbef85"
      },
      "outputs": [
        {
          "data": {
            "text/plain": [
              "['www.google.com']"
            ]
          },
          "execution_count": 47,
          "metadata": {},
          "output_type": "execute_result"
        }
      ],
      "source": [
        "re.findall(r'www\\.[^0-9]+\\.com', websites)"
      ]
    },
    {
      "cell_type": "code",
      "execution_count": null,
      "metadata": {
        "id": "_eJo-m10_hzS",
        "outputId": "c1a84098-6578-42b0-9a65-e501a0993c86"
      },
      "outputs": [
        {
          "data": {
            "text/plain": [
              "['Столбец1', 'Столбец2', 'Столбец3', 'Столбец4', 'Столбец5']"
            ]
          },
          "execution_count": 55,
          "metadata": {},
          "output_type": "execute_result"
        }
      ],
      "source": [
        "# split\n",
        "columns = 'Столбец1,Столбец2;Столбец3, Столбец4; Столбец5'\n",
        "re.split(r'[,;]\\s?', columns)"
      ]
    },
    {
      "cell_type": "code",
      "execution_count": null,
      "metadata": {
        "id": "LlGOJfFT_hzV"
      },
      "outputs": [],
      "source": [
        "flight = '''Boarding pass:\n",
        "LA4214 AER-CDB 06NOV\n",
        "LA4332 AER-CDB 07NOV\n",
        "'''"
      ]
    },
    {
      "cell_type": "code",
      "execution_count": null,
      "metadata": {
        "id": "bjec5-PB_hzV"
      },
      "outputs": [],
      "source": [
        "regex_flight = r'([A-Z]{2})(\\d{4})\\s([A-Z]{3})-([A-Z]{3})\\s(\\d{2}[A-Z]{3})'"
      ]
    },
    {
      "cell_type": "code",
      "execution_count": null,
      "metadata": {
        "id": "K90yhL6J_hzV"
      },
      "outputs": [],
      "source": [
        "# ВНИМАНИЕ! При наличии скобочных групп функция find_all ищет только их!\n",
        "# Остальные функции получают такой-же match объект, в котором есть возможность обратиться к любой группе\n",
        "flight_result = re.findall(regex_flight, flight)"
      ]
    },
    {
      "cell_type": "code",
      "execution_count": null,
      "metadata": {
        "id": "FtPQ5puv_hzW",
        "outputId": "4d0b249d-ae9a-4b33-9a82-5e80faca0d0c"
      },
      "outputs": [
        {
          "name": "stdout",
          "output_type": "stream",
          "text": [
            "[('LA', '4214', 'AER', 'CDB', '06NOV'), ('LA', '4332', 'AER', 'CDB', '07NOV')]\n"
          ]
        }
      ],
      "source": [
        "print(flight_result)"
      ]
    },
    {
      "cell_type": "code",
      "execution_count": null,
      "metadata": {
        "id": "DW-PG4mp_hzW",
        "outputId": "0dbe21b1-a0cf-464d-fcd2-631f57897897"
      },
      "outputs": [
        {
          "name": "stdout",
          "output_type": "stream",
          "text": [
            "<re.Match object; span=(16, 36), match='LA4214 AER-CDB 06NOV'>\n",
            "('AER', 'CDB')\n"
          ]
        }
      ],
      "source": [
        "flight_match_result = re.search(regex_flight, flight)\n",
        "print(flight_match_result)\n",
        "print(flight_match_result.group(3,4))"
      ]
    },
    {
      "cell_type": "code",
      "execution_count": null,
      "metadata": {
        "id": "dKRzXYJI_hzW",
        "outputId": "9cc36db2-d469-4259-9c74-859209a23a14"
      },
      "outputs": [
        {
          "data": {
            "text/plain": [
              "'some text 30.08.1991 some text'"
            ]
          },
          "execution_count": 62,
          "metadata": {},
          "output_type": "execute_result"
        }
      ],
      "source": [
        "# переведем даты к другому формату при помощи групп\n",
        "date = 'some text 08/30/1991 some text'\n",
        "re.sub(r'(\\d\\d)/(\\d\\d)/(\\d{4})', r'\\2.\\1.\\3', date)"
      ]
    },
    {
      "cell_type": "code",
      "execution_count": null,
      "metadata": {
        "id": "Igp0COzW_hzX"
      },
      "outputs": [],
      "source": [
        "# удалим последовательные повторы цифр\n",
        "numbers = '44444555 6666 8888 7777 44445467457547457555555'"
      ]
    },
    {
      "cell_type": "code",
      "execution_count": null,
      "metadata": {
        "id": "zCGLQ2Dg_hzX",
        "outputId": "affad641-0c65-41d6-ffdf-44bbdfe8d1b2"
      },
      "outputs": [
        {
          "data": {
            "text/plain": [
              "'45 6 8 7 454674575474575'"
            ]
          },
          "execution_count": 64,
          "metadata": {},
          "output_type": "execute_result"
        }
      ],
      "source": [
        "re.sub(r'(\\d)\\1+', r'\\1', numbers)"
      ]
    },
    {
      "cell_type": "code",
      "execution_count": null,
      "metadata": {
        "id": "MAIeq0qM_hza",
        "outputId": "c3327881-9f10-4fb1-84de-7a0fa4117405"
      },
      "outputs": [
        {
          "data": {
            "text/plain": [
              "['22.txt', '44.txt']"
            ]
          },
          "execution_count": 72,
          "metadata": {},
          "output_type": "execute_result"
        }
      ],
      "source": [
        "# lookaround. Достанем имена только загруженных файлов\n",
        "report = 'файл 11.txt загружен, файл 22.txt ошибка 44345, файл 33.txt загружен, файл 44.txt ошибка 43535'\n",
        "# find_downloaded = r'\\d+\\.txt(?=\\sзагружен)'\n",
        "files_error = r'\\d+\\.txt(?!\\sзагружен)'\n",
        "# re.findall(find_downloaded, report)\n",
        "re.findall(files_error, report)"
      ]
    },
    {
      "cell_type": "code",
      "execution_count": null,
      "metadata": {
        "id": "zOxfkL8L_hza",
        "outputId": "fa34b856-3557-40e8-d748-e4023685f46b"
      },
      "outputs": [
        {
          "name": "stdout",
          "output_type": "stream",
          "text": [
            "['RUB4.44', 'RUB10.88', 'RUB99.99']\n"
          ]
        }
      ],
      "source": [
        "import re\n",
        "prices = 'RUB4.44, RUB10.88, EUR0.99, RUB99.99, USD39.00'\n",
        "\n",
        "print(re.findall(r'RUB\\d+\\.\\d{2}', prices))"
      ]
    },
    {
      "cell_type": "markdown",
      "metadata": {
        "id": "uqRp3Y7IHFj2"
      },
      "source": [
        "## Ваши вопросы"
      ]
    },
    {
      "cell_type": "markdown",
      "metadata": {
        "id": "mJkW79MpI7jX"
      },
      "source": [
        "## Итоги занятия"
      ]
    },
    {
      "cell_type": "markdown",
      "source": [
        "1.   Рассмотрели основы использования регулярных выражений\n",
        "2.   Разобрали практические задачи использования регулярных выражений"
      ],
      "metadata": {
        "id": "59MgxEHvIj3I"
      }
    },
    {
      "cell_type": "markdown",
      "metadata": {
        "id": "Roa5ED1nHS0u"
      },
      "source": [
        "## Дополнительные материалы"
      ]
    },
    {
      "cell_type": "markdown",
      "metadata": {
        "id": "WiWg81tWHz2b"
      },
      "source": [
        "https://regexcrossword.com/howtoplay\n",
        "\n",
        "https://regex101.com/"
      ]
    }
  ],
  "metadata": {
    "colab": {
      "provenance": []
    },
    "kernelspec": {
      "display_name": "Python 3 (ipykernel)",
      "language": "python",
      "name": "python3"
    },
    "language_info": {
      "codemirror_mode": {
        "name": "ipython",
        "version": 3
      },
      "file_extension": ".py",
      "mimetype": "text/x-python",
      "name": "python",
      "nbconvert_exporter": "python",
      "pygments_lexer": "ipython3",
      "version": "3.10.2"
    }
  },
  "nbformat": 4,
  "nbformat_minor": 0
}