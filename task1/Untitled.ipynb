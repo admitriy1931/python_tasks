{
 "cells": [
  {
   "cell_type": "code",
   "execution_count": 1,
   "id": "42509e42-f71a-418f-bb25-fc1e39b016c9",
   "metadata": {},
   "outputs": [
    {
     "name": "stdout",
     "output_type": "stream",
     "text": [
      "1840e0b9d4: Продукты\n",
      "4e4f90fcfb: Электроника\n"
     ]
    }
   ],
   "source": [
    "def read_purchases(filepath: str) -> dict:\n",
    "    \"\"\"Читает purchase_log.txt и возвращает словарь user_id: category\"\"\"\n",
    "    purchases = {}\n",
    "    with open(filepath, 'r', encoding='utf-8') as file:\n",
    "        next(file) \n",
    "        for line in file:\n",
    "            try:\n",
    "                data = json.loads(line.strip())\n",
    "                purchases[data['user_id']] = data['category']\n",
    "            except (json.JSONDecodeError, KeyError) as e:\n",
    "                print(f\"Ошибка чтения purchase_log, строка: {line.strip()} - {e}\")\n",
    "    return purchases\n",
    "\n",
    "purchases = read_purchases('purchase_log.txt')\n",
    "for user_id, category in list(purchases.items())[:2]:\n",
    "    print(f\"{user_id}: {category}\")\n",
    "\n"
   ]
  },
  {
   "cell_type": "code",
   "execution_count": 2,
   "id": "502b9cdd-3488-40de-96d1-5273a94745d1",
   "metadata": {},
   "outputs": [
    {
     "ename": "NameError",
     "evalue": "name 'csv' is not defined",
     "output_type": "error",
     "traceback": [
      "\u001b[0;31m---------------------------------------------------------------------------\u001b[0m",
      "\u001b[0;31mNameError\u001b[0m                                 Traceback (most recent call last)",
      "Cell \u001b[0;32mIn[2], line 19\u001b[0m\n\u001b[1;32m     16\u001b[0m             \u001b[38;5;28;01mif\u001b[39;00m user_id \u001b[38;5;129;01min\u001b[39;00m purchases:\n\u001b[1;32m     17\u001b[0m                 writer\u001b[38;5;241m.\u001b[39mwriterow([user_id, source, purchases[user_id]])\n\u001b[0;32m---> 19\u001b[0m \u001b[43mmake_funnel\u001b[49m\u001b[43m(\u001b[49m\u001b[38;5;124;43m'\u001b[39;49m\u001b[38;5;124;43mvisit_log.csv\u001b[39;49m\u001b[38;5;124;43m'\u001b[39;49m\u001b[43m,\u001b[49m\u001b[43m \u001b[49m\u001b[38;5;124;43m'\u001b[39;49m\u001b[38;5;124;43mpurchase_log.txt\u001b[39;49m\u001b[38;5;124;43m'\u001b[39;49m\u001b[43m,\u001b[49m\u001b[43m \u001b[49m\u001b[38;5;124;43m'\u001b[39;49m\u001b[38;5;124;43mfunnel.csv\u001b[39;49m\u001b[38;5;124;43m'\u001b[39;49m\u001b[43m)\u001b[49m\n\u001b[1;32m     21\u001b[0m \u001b[38;5;66;03m# вывод первых 3 - x строк\u001b[39;00m\n\u001b[1;32m     22\u001b[0m \u001b[38;5;28;01mwith\u001b[39;00m \u001b[38;5;28mopen\u001b[39m(\u001b[38;5;124m'\u001b[39m\u001b[38;5;124mfunnel.csv\u001b[39m\u001b[38;5;124m'\u001b[39m, \u001b[38;5;124m'\u001b[39m\u001b[38;5;124mr\u001b[39m\u001b[38;5;124m'\u001b[39m, encoding\u001b[38;5;241m=\u001b[39m\u001b[38;5;124m'\u001b[39m\u001b[38;5;124mutf-8\u001b[39m\u001b[38;5;124m'\u001b[39m) \u001b[38;5;28;01mas\u001b[39;00m f:\n",
      "Cell \u001b[0;32mIn[2], line 7\u001b[0m, in \u001b[0;36mmake_funnel\u001b[0;34m(visit_path, purchase_path, output_path)\u001b[0m\n\u001b[1;32m      3\u001b[0m purchases \u001b[38;5;241m=\u001b[39m read_purchases(purchase_path)\n\u001b[1;32m      4\u001b[0m \u001b[38;5;28;01mwith\u001b[39;00m \u001b[38;5;28mopen\u001b[39m(visit_path, \u001b[38;5;124m'\u001b[39m\u001b[38;5;124mr\u001b[39m\u001b[38;5;124m'\u001b[39m, encoding\u001b[38;5;241m=\u001b[39m\u001b[38;5;124m'\u001b[39m\u001b[38;5;124mutf-8\u001b[39m\u001b[38;5;124m'\u001b[39m) \u001b[38;5;28;01mas\u001b[39;00m visits, \\\n\u001b[1;32m      5\u001b[0m      \u001b[38;5;28mopen\u001b[39m(output_path, \u001b[38;5;124m'\u001b[39m\u001b[38;5;124mw\u001b[39m\u001b[38;5;124m'\u001b[39m, encoding\u001b[38;5;241m=\u001b[39m\u001b[38;5;124m'\u001b[39m\u001b[38;5;124mutf-8\u001b[39m\u001b[38;5;124m'\u001b[39m, newline\u001b[38;5;241m=\u001b[39m\u001b[38;5;124m'\u001b[39m\u001b[38;5;124m'\u001b[39m) \u001b[38;5;28;01mas\u001b[39;00m funnel: \n\u001b[0;32m----> 7\u001b[0m     reader \u001b[38;5;241m=\u001b[39m \u001b[43mcsv\u001b[49m\u001b[38;5;241m.\u001b[39mreader(visits)\n\u001b[1;32m      8\u001b[0m     writer \u001b[38;5;241m=\u001b[39m csv\u001b[38;5;241m.\u001b[39mwriter(funnel)\n\u001b[1;32m      9\u001b[0m     writer\u001b[38;5;241m.\u001b[39mwriterow([\u001b[38;5;124m'\u001b[39m\u001b[38;5;124muser_id\u001b[39m\u001b[38;5;124m'\u001b[39m, \u001b[38;5;124m'\u001b[39m\u001b[38;5;124msource\u001b[39m\u001b[38;5;124m'\u001b[39m, \u001b[38;5;124m'\u001b[39m\u001b[38;5;124mcategory\u001b[39m\u001b[38;5;124m'\u001b[39m])\n",
      "\u001b[0;31mNameError\u001b[0m: name 'csv' is not defined"
     ]
    }
   ],
   "source": [
    "import c\n",
    "def make_funnel(visit_path: str, purchase_path: str, output_path: str):\n",
    "    \"\"\"Создаёт файл funnel.csv\"\"\"\n",
    "    purchases = read_purchases(purchase_path)\n",
    "    with open(visit_path, 'r', encoding='utf-8') as visits, \\\n",
    "         open(output_path, 'w', encoding='utf-8', newline='') as funnel: \n",
    "             \n",
    "        reader = csv.reader(visits)\n",
    "        writer = csv.writer(funnel)\n",
    "        writer.writerow(['user_id', 'source', 'category'])\n",
    "    \n",
    "        next(reader) \n",
    "        for row in reader:\n",
    "            if len(row) < 2:\n",
    "                continue\n",
    "            user_id, source = row[0], row[1]\n",
    "            if user_id in purchases:\n",
    "                writer.writerow([user_id, source, purchases[user_id]])\n",
    "\n",
    "make_funnel('visit_log.csv', 'purchase_log.txt', 'funnel.csv')\n",
    "\n",
    "# вывод первых 3 - x строк\n",
    "with open('funnel.csv', 'r', encoding='utf-8') as f:\n",
    "    for i, line in enumerate(f):\n",
    "        print(line.strip())\n",
    "        if i == 2: \n",
    "            break"
   ]
  },
  {
   "cell_type": "code",
   "execution_count": null,
   "id": "d3f8cebc-3e0b-4d7d-a246-bb73b622e261",
   "metadata": {},
   "outputs": [],
   "source": []
  }
 ],
 "metadata": {
  "kernelspec": {
   "display_name": "Python 3 (ipykernel)",
   "language": "python",
   "name": "python3"
  },
  "language_info": {
   "codemirror_mode": {
    "name": "ipython",
    "version": 3
   },
   "file_extension": ".py",
   "mimetype": "text/x-python",
   "name": "python",
   "nbconvert_exporter": "python",
   "pygments_lexer": "ipython3",
   "version": "3.13.2"
  }
 },
 "nbformat": 4,
 "nbformat_minor": 5
}
