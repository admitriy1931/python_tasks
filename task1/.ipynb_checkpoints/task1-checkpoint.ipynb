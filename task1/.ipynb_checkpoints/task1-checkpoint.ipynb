{
 "cells": [
  {
   "cell_type": "code",
   "execution_count": 1,
   "id": "42509e42-f71a-418f-bb25-fc1e39b016c9",
   "metadata": {},
   "outputs": [
    {
     "name": "stdout",
     "output_type": "stream",
     "text": [
      "1840e0b9d4: Продукты\n",
      "4e4f90fcfb: Электроника\n"
     ]
    }
   ],
   "source": [
    "def read_purchases(filepath: str) -> dict:\n",
    "    \"\"\"Читает purchase_log.txt и возвращает словарь user_id: category\"\"\"\n",
    "    purchases = {}\n",
    "    with open(filepath, 'r', encoding='utf-8') as file:\n",
    "        next(file) \n",
    "        for line in file:\n",
    "            try:\n",
    "                data = json.loads(line.strip())\n",
    "                purchases[data['user_id']] = data['category']\n",
    "            except (json.JSONDecodeError, KeyError) as e:\n",
    "                print(f\"Ошибка чтения purchase_log, строка: {line.strip()} - {e}\")\n",
    "    return purchases\n",
    "\n",
    "purchases = read_purchases('purchase_log.txt')\n",
    "for user_id, category in list(purchases.items())[:2]:\n",
    "    print(f\"{user_id}: {category}\")\n",
    "\n"
   ]
  },
  {
   "cell_type": "code",
   "execution_count": 3,
   "id": "502b9cdd-3488-40de-96d1-5273a94745d1",
   "metadata": {},
   "outputs": [
    {
     "name": "stdout",
     "output_type": "stream",
     "text": [
      "user_id,source,category\n",
      "1840e0b9d4,other,Продукты\n",
      "4e4f90fcfb,context,Электроника\n"
     ]
    }
   ],
   "source": [
    "import csv\n",
    "def make_funnel(visit_path: str, purchase_path: str, output_path: str):\n",
    "    \"\"\"Создаёт файл funnel.csv\"\"\"\n",
    "    purchases = read_purchases(purchase_path)\n",
    "    with open(visit_path, 'r', encoding='utf-8') as visits, \\\n",
    "         open(output_path, 'w', encoding='utf-8', newline='') as funnel: \n",
    "             \n",
    "        reader = csv.reader(visits)\n",
    "        writer = csv.writer(funnel)\n",
    "        writer.writerow(['user_id', 'source', 'category'])\n",
    "    \n",
    "        next(reader) \n",
    "             \n",
    "        for row in reader:\n",
    "            if len(row) < 2:\n",
    "                continue\n",
    "            user_id, source = row[0], row[1]\n",
    "            if user_id in purchases:\n",
    "                writer.writerow([user_id, source, purchases[user_id]])\n",
    "\n",
    "make_funnel('visit_log.csv', 'purchase_log.txt', 'funnel.csv')\n",
    "\n",
    "# вывод первых 3 - x строк\n",
    "with open('funnel.csv', 'r', encoding='utf-8') as f:\n",
    "    for i, line in enumerate(f):\n",
    "        print(line.strip())\n",
    "        if i == 2: \n",
    "            break"
   ]
  },
  {
   "cell_type": "code",
   "execution_count": null,
   "id": "d3f8cebc-3e0b-4d7d-a246-bb73b622e261",
   "metadata": {},
   "outputs": [],
   "source": []
  }
 ],
 "metadata": {
  "kernelspec": {
   "display_name": "Python 3 (ipykernel)",
   "language": "python",
   "name": "python3"
  },
  "language_info": {
   "codemirror_mode": {
    "name": "ipython",
    "version": 3
   },
   "file_extension": ".py",
   "mimetype": "text/x-python",
   "name": "python",
   "nbconvert_exporter": "python",
   "pygments_lexer": "ipython3",
   "version": "3.13.2"
  }
 },
 "nbformat": 4,
 "nbformat_minor": 5
}
