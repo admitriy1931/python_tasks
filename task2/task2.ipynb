{
 "cells": [
  {
   "cell_type": "code",
   "execution_count": 1,
   "id": "e07bfee3-733d-4586-91d0-ac1f8aa72fcd",
   "metadata": {},
   "outputs": [
    {
     "name": "stdout",
     "output_type": "stream",
     "text": [
      "2002-10-02 00:00:00\n",
      "2013-10-11 00:00:00\n",
      "1977-08-18 00:00:00\n"
     ]
    }
   ],
   "source": [
    "from datetime import datetime\n",
    "\n",
    "moscow_times = \"Wednesday, October 2, 2002\"\n",
    "guardian = \"Friday, 11.10.13\"\n",
    "daily_news = \"Thursday, 18 August 1977\"\n",
    "\n",
    "fmt_moscow = \"%A, %B %d, %Y\"\n",
    "fmt_guardian = \"%A, %d.%m.%y\"\n",
    "fmt_daily = \"%A, %d %B %Y\"\n",
    "\n",
    "dt_moscow = datetime.strptime(moscow_times, fmt_moscow)\n",
    "dt_guardian = datetime.strptime(guardian, fmt_guardian)\n",
    "dt_daily = datetime.strptime(daily_news, fmt_daily)\n",
    "\n",
    "print(dt_moscow)\n",
    "print(dt_guardian)\n",
    "print(dt_daily)\n"
   ]
  },
  {
   "cell_type": "code",
   "execution_count": 2,
   "id": "b51b3e11-b69c-45f8-a288-9798f4def535",
   "metadata": {},
   "outputs": [
    {
     "name": "stdout",
     "output_type": "stream",
     "text": [
      "['2022-01-01', '2022-01-02', '2022-01-03']\n",
      "[]\n",
      "[]\n"
     ]
    }
   ],
   "source": [
    "from datetime import datetime, timedelta\n",
    "\n",
    "def date_range(start_date, end_date):\n",
    "    try:\n",
    "        start = datetime.strptime(start_date, \"%Y-%m-%d\")\n",
    "        end = datetime.strptime(end_date, \"%Y-%m-%d\")\n",
    "        if start > end:\n",
    "            return []\n",
    "        result = []\n",
    "        current = start\n",
    "        while current <= end:\n",
    "            result.append(current.strftime(\"%Y-%m-%d\"))\n",
    "            current += timedelta(days=1)\n",
    "        return result\n",
    "    except ValueError:\n",
    "        return []\n",
    "\n",
    "print(date_range('2022-01-01', '2022-01-03'))  \n",
    "print(date_range('2022-01-05', '2022-01-03'))  \n",
    "print(date_range('2022-13-01', '2022-01-03')) "
   ]
  },
  {
   "cell_type": "code",
   "execution_count": null,
   "id": "3437840c-16a7-47e0-aa8c-cf091a85903a",
   "metadata": {},
   "outputs": [],
   "source": []
  }
 ],
 "metadata": {
  "kernelspec": {
   "display_name": "Python 3 (ipykernel)",
   "language": "python",
   "name": "python3"
  },
  "language_info": {
   "codemirror_mode": {
    "name": "ipython",
    "version": 3
   },
   "file_extension": ".py",
   "mimetype": "text/x-python",
   "name": "python",
   "nbconvert_exporter": "python",
   "pygments_lexer": "ipython3",
   "version": "3.13.2"
  }
 },
 "nbformat": 4,
 "nbformat_minor": 5
}
